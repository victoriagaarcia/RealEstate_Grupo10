{
 "cells": [
  {
   "cell_type": "markdown",
   "id": "5d7c8169-4c0a-4113-b1e3-923afe5fc446",
   "metadata": {},
   "source": [
    "<div align=\"center\" style=\"font-weight: bold; color:#fbb900\">\n",
    "    <div style=\"font-size: xx-large\">Grado en Ingeniería Matemática e Inteligencia Artificial(iMAT)</div><br>\n",
    "    <div style=\"font-size: x-large; color:gray\">Tecnologia de Procesamiento de Big Data&ndash; SPARK</div><br>\n",
    "    <div style=\"font-size: large; color:gray\">María Jaque Oficialdegui, Emma Rey Sánchez y Catalina Royo-Villanova Seguí</div><br>\n",
    "        <div style=\"font-size: large; color:gray\">Escuela Técnica Superior de Ingeniería (ICAI)</div><br>\n",
    "</div>"
   ]
  },
  {
   "cell_type": "code",
   "execution_count": 53,
   "id": "5de1f2a6-c1ff-4443-a3f1-61818dc4d53e",
   "metadata": {},
   "outputs": [],
   "source": [
    "import pyspark\n",
    "import pyspark.sql.functions as F\n",
    "import numpy as np\n",
    "from pyspark.sql import SparkSession\n",
    "import numpy as np\n",
    "from datetime import datetime, timedelta\n",
    "from pyspark.sql.window import Window\n",
    "import math\n",
    "import pandas as pd\n",
    "import subprocess\n",
    "import plotly.express as px\n",
    "import plotly.graph_objects as go\n",
    "import matplotlib.dates as mdates\n",
    "\n",
    "from pyspark.sql.types import ArrayType, StringType, IntegerType, FloatType, DateType\n",
    "from pyspark.ml.functions import array_to_vector\n",
    "from pyspark.ml.linalg import Vectors\n",
    "from pyspark.ml.feature import (StringIndexer,\n",
    "                                OneHotEncoder,\n",
    "                                PCA,\n",
    "                                PolynomialExpansion,\n",
    "                                Tokenizer,\n",
    "                                HashingTF,\n",
    "                                VectorAssembler,\n",
    "                                StandardScaler\n",
    ")\n",
    "from pyspark.ml.classification import LogisticRegression\n",
    "from pyspark.ml.evaluation import MulticlassClassificationEvaluator\n",
    "from pyspark.ml.classification import RandomForestClassifier, RandomForestClassificationModel\n",
    "from pyspark.ml.regression import RandomForestRegressor, RandomForestRegressionModel\n",
    "from pyspark.ml.evaluation import RegressionEvaluator\n",
    "\n",
    "from sklearn.datasets import make_blobs\n",
    "import matplotlib.pyplot as plt\n",
    "\n",
    "\n",
    "from pyspark.ml.regression import LinearRegression\n",
    "from pyspark.ml.regression import GeneralizedLinearRegression\n",
    "from pyspark.ml.regression import GBTRegressor\n",
    "from pyspark.ml.pipeline import Pipeline\n",
    "\n",
    "\n",
    "from pyspark.ml.tuning import CrossValidator\n",
    "from pyspark.ml.feature import PolynomialExpansion, StandardScaler\n",
    "from pyspark.ml.tuning import ParamGridBuilder\n",
    "\n",
    "from pyspark.sql.functions import desc, row_number, dense_rank\n",
    "from pyspark.sql.functions import lag, col"
   ]
  },
  {
   "cell_type": "code",
   "execution_count": 2,
   "id": "e4236aa1-aeca-4de3-98eb-992c0629bc2b",
   "metadata": {},
   "outputs": [
    {
     "data": {
      "text/html": [
       "<style>\n",
       "    .qst, .slides {background-color: #fbb900; padding:10px; border-radius: 5px; border: solid 2px #fbb900;}\n",
       "    .qst:before, .slides:before {font-weight: bold; content:\"Ejercicio\"; display: block; margin: 0px 10px 10px 10px;}\n",
       "    h1, h2, h3 {color:  #fbb900;}\n",
       "    .text_cell_render p, ul, ol {text-align: justify; text-justify: inter-word;}\n",
       "    li {margin-bottom: 10px; margin-top: 10px;}\n",
       "    div.output pre{border: 1px solid gray; border-radius: 1px; padding: 5px}\n",
       "    td, th {font-size: 110%;}\n",
       "</style>\n"
      ],
      "text/plain": [
       "<IPython.core.display.HTML object>"
      ]
     },
     "metadata": {},
     "output_type": "display_data"
    }
   ],
   "source": [
    "%%html\n",
    "<style>\n",
    "    .qst, .slides {background-color: #fbb900; padding:10px; border-radius: 5px; border: solid 2px #fbb900;}\n",
    "    .qst:before, .slides:before {font-weight: bold; content:\"Ejercicio\"; display: block; margin: 0px 10px 10px 10px;}\n",
    "    h1, h2, h3 {color:  #fbb900;}\n",
    "    .text_cell_render p, ul, ol {text-align: justify; text-justify: inter-word;}\n",
    "    li {margin-bottom: 10px; margin-top: 10px;}\n",
    "    div.output pre{border: 1px solid gray; border-radius: 1px; padding: 5px}\n",
    "    td, th {font-size: 110%;}\n",
    "</style>"
   ]
  },
  {
   "cell_type": "code",
   "execution_count": 3,
   "id": "10aa0c2a-5106-4738-8c2c-4043e18ebd72",
   "metadata": {},
   "outputs": [
    {
     "name": "stderr",
     "output_type": "stream",
     "text": [
      "Setting default log level to \"WARN\".\n",
      "To adjust logging level use sc.setLogLevel(newLevel). For SparkR, use setLogLevel(newLevel).\n"
     ]
    }
   ],
   "source": [
    "user = 'abd02'\n",
    "appName = user+'_cl1_<sparksql'\n",
    "spark = SparkSession.builder.master(\"yarn\") \\\n",
    "                    .appName(appName) \\\n",
    "                    .getOrCreate()\n",
    "sc = spark.sparkContext"
   ]
  },
  {
   "cell_type": "code",
   "execution_count": 4,
   "id": "9ea5ddba-099c-4f70-a967-1d2afb0fb347",
   "metadata": {},
   "outputs": [
    {
     "name": "stdout",
     "output_type": "stream",
     "text": [
      "<SparkContext master=yarn appName=abd02_cl1_<sparksql>\n"
     ]
    }
   ],
   "source": [
    "if not ((\"sc\" in globals()) or (\"sc\" in locals())):\n",
    "    sc = pyspark.SparkContext()\n",
    "\n",
    "print(sc)"
   ]
  },
  {
   "cell_type": "code",
   "execution_count": 5,
   "id": "fff5707c-a353-4fd6-be77-ee32a659009e",
   "metadata": {},
   "outputs": [
    {
     "data": {
      "text/html": [
       "\n",
       "        <div>\n",
       "            <p><b>SparkContext</b></p>\n",
       "\n",
       "            <p><a href=\"http://edge01.bigdata.alumnos.upcont.es:4041\">Spark UI</a></p>\n",
       "\n",
       "            <dl>\n",
       "              <dt>Version</dt>\n",
       "                <dd><code>v3.4.1</code></dd>\n",
       "              <dt>Master</dt>\n",
       "                <dd><code>yarn</code></dd>\n",
       "              <dt>AppName</dt>\n",
       "                <dd><code>abd02_cl1_<sparksql</code></dd>\n",
       "            </dl>\n",
       "        </div>\n",
       "        "
      ],
      "text/plain": [
       "<SparkContext master=yarn appName=abd02_cl1_<sparksql>"
      ]
     },
     "execution_count": 5,
     "metadata": {},
     "output_type": "execute_result"
    }
   ],
   "source": [
    "sc"
   ]
  },
  {
   "cell_type": "markdown",
   "id": "51166b6a-ef24-4c77-bdba-2e0523eaf6ce",
   "metadata": {},
   "source": [
    "## Procesado de los datos\n",
    "Nuestra base de datos se llama \"real_estate\" y la tabla con los datos es \"data\". Antes de comenzar nos moveremos a esa base de datos y comprobaremos que efectivamente hay información en la tabla."
   ]
  },
  {
   "cell_type": "code",
   "execution_count": 6,
   "id": "83ec40bf-45ed-485e-b50f-a5a19e6c2ea0",
   "metadata": {},
   "outputs": [],
   "source": [
    "spark.catalog.setCurrentDatabase(\"real_estate\")"
   ]
  },
  {
   "cell_type": "code",
   "execution_count": 7,
   "id": "34ab92fe-9029-4107-94e8-3293c030551b",
   "metadata": {},
   "outputs": [
    {
     "name": "stderr",
     "output_type": "stream",
     "text": [
      "                                                                                \r"
     ]
    },
    {
     "data": {
      "text/plain": [
       "[Table(name='c500_real_estate', catalog='spark_catalog', namespace=['real_estate'], description='Imported by sqoop on 2024/03/12 19:39:04', tableType='MANAGED', isTemporary=False),\n",
       " Table(name='data', catalog='spark_catalog', namespace=['real_estate'], description=None, tableType='MANAGED', isTemporary=False)]"
      ]
     },
     "execution_count": 7,
     "metadata": {},
     "output_type": "execute_result"
    }
   ],
   "source": [
    "spark.catalog.listTables()"
   ]
  },
  {
   "cell_type": "code",
   "execution_count": 8,
   "id": "a67ce3e8-587f-4233-a0fa-67fb207fa669",
   "metadata": {},
   "outputs": [],
   "source": [
    "# Ejecutar la consulta SQL y cargar los resultados en un DataFrame\n",
    "df = spark.table(\"data\")"
   ]
  },
  {
   "cell_type": "code",
   "execution_count": 9,
   "id": "b3d786f5-c8e4-42f3-91d2-3ff9d6cc62a2",
   "metadata": {},
   "outputs": [
    {
     "name": "stderr",
     "output_type": "stream",
     "text": [
      "[Stage 3:>                                                          (0 + 1) / 1]\r"
     ]
    },
    {
     "name": "stdout",
     "output_type": "stream",
     "text": [
      "+----------+------------------+------------------+------------------+------------------+---------+---------+-----------+------+----------+\n",
      "|      Date|              Open|              High|               Low|             Close|   Volume|Dividends|StockSplits|Symbol|       CIK|\n",
      "+----------+------------------+------------------+------------------+------------------+---------+---------+-----------+------+----------+\n",
      "|2020-01-02|142.98894185962598|143.42163110894384|139.97782189668848|141.04627990722656|1094900.0|      0.0|        0.0|   ARE|0001035443|\n",
      "|2020-01-03| 139.9601258223185|142.48558983037347| 139.9601258223185| 141.8498077392578| 371300.0|      0.0|        0.0|   ARE|0001035443|\n",
      "|2020-01-06|141.32002513294364|142.67989801099486|140.92266458118684|142.19422912597656| 604700.0|      0.0|        0.0|   ARE|0001035443|\n",
      "|2020-01-07| 138.1852552232042|139.10359973486672|136.60462528551435|137.54063415527344|4543900.0|      0.0|        0.0|   ARE|0001035443|\n",
      "|2020-01-08|138.19406930717287|139.51861310244928|137.55828720752368|139.36849975585938|2239300.0|      0.0|        0.0|   ARE|0001035443|\n",
      "|2020-01-09|139.43914633638803|139.87182202766732|138.66207631684833|138.87400817871094|1644600.0|      0.0|        0.0|   ARE|0001035443|\n",
      "|2020-01-10|139.15659417865498|140.17208603118982|138.51198651592304|   140.02197265625|1155300.0|      0.0|        0.0|   ARE|0001035443|\n",
      "|2020-01-13| 140.5871007131636| 142.1412274297829| 140.5871007131636|141.97344970703125|1216300.0|      0.0|        0.0|   ARE|0001035443|\n",
      "|2020-01-14|141.77034158709984|142.07939372454047|140.03959841639818| 141.6908721923828|1023500.0|      0.0|        0.0|   ARE|0001035443|\n",
      "|2020-01-15|142.30020113859007| 144.5695934626065|142.01763869988065|143.30685424804688| 875700.0|      0.0|        0.0|   ARE|0001035443|\n",
      "+----------+------------------+------------------+------------------+------------------+---------+---------+-----------+------+----------+\n",
      "only showing top 10 rows\n",
      "\n"
     ]
    },
    {
     "name": "stderr",
     "output_type": "stream",
     "text": [
      "                                                                                \r"
     ]
    }
   ],
   "source": [
    "# Mostrar el DataFrame resultante\n",
    "df.show(10)"
   ]
  },
  {
   "cell_type": "code",
   "execution_count": 10,
   "id": "5bc653bc-535d-4aac-82f6-126c3ebaeb74",
   "metadata": {},
   "outputs": [
    {
     "name": "stderr",
     "output_type": "stream",
     "text": [
      "[Stage 4:=============================>                             (1 + 1) / 2]\r"
     ]
    },
    {
     "name": "stdout",
     "output_type": "stream",
     "text": [
      "+----------+------------------+------------------+------------------+------------------+---------+---------+-----------+------+----------+\n",
      "|      Date|              Open|              High|               Low|             Close|   Volume|Dividends|StockSplits|Symbol|       CIK|\n",
      "+----------+------------------+------------------+------------------+------------------+---------+---------+-----------+------+----------+\n",
      "|2024-04-24| 755.5900268554688|            768.25| 754.5349731445312| 756.8400268554688| 775565.0|      0.0|        0.0|  EQIX|0001101239|\n",
      "|2024-04-24|126.37000274658203|128.84500122070312|125.98500061035156|128.39999389648438| 440861.0|      0.0|        0.0|   MAA|0000912595|\n",
      "|2024-04-24|62.290000915527344| 65.20999908447266|  62.2406005859375| 64.61000061035156|3104464.0|      0.0|        0.0|   EQR|0000906107|\n",
      "|2024-04-24| 118.1500015258789|119.82499694824219|116.88500213623047| 119.6500015258789| 829581.0|      0.0|        0.0|   ARE|0001035443|\n",
      "|2024-04-24| 239.3699951171875| 248.9499969482422| 239.3699951171875|247.74000549316406| 388463.0|      0.0|        0.0|   ESS|0000920522|\n",
      "|2024-04-24|187.00999450683594|             192.5|186.33999633789062|191.33999633789062| 886942.0|      0.0|        0.0|   AVB|0000915912|\n",
      "|2024-04-24|132.39999389648438|             136.0|131.02000427246094|134.63999938964844|1095485.0|      0.0|        0.0|   EXR|0001289490|\n",
      "|2024-04-24| 87.48999786376953| 87.48999786376953| 85.94999694824219|  86.7699966430664| 904871.0|      0.0|        0.0|  CBRE|0001138118|\n",
      "|2024-04-24|102.06999969482422|103.77999877929688|101.51000213623047| 103.5999984741211| 727040.0|      0.0|        0.0|   FRT|0000034903|\n",
      "|2024-04-24| 94.47000122070312| 95.66000366210938| 93.79000091552734| 95.44000244140625|2905601.0|      0.0|        0.0|   CCI|0001051470|\n",
      "+----------+------------------+------------------+------------------+------------------+---------+---------+-----------+------+----------+\n",
      "only showing top 10 rows\n",
      "\n"
     ]
    },
    {
     "name": "stderr",
     "output_type": "stream",
     "text": [
      "                                                                                \r"
     ]
    }
   ],
   "source": [
    "# Ordenamos los datos cronológicamente\n",
    "data = df.orderBy(F.desc(\"date\"))\n",
    "# data.show(10)"
   ]
  },
  {
   "cell_type": "code",
   "execution_count": 11,
   "id": "996fb0fc-9d83-4b33-b9d1-7548c17d0eba",
   "metadata": {},
   "outputs": [],
   "source": [
    "# Preprocesamiento: limpieza y manejo de valores nulos\n",
    "# Definir una ventana particionada por alguna columna si es necesario y ordenada por fecha\n",
    "window = Window.orderBy(\"Date\").rowsBetween(Window.unboundedPreceding, Window.currentRow)\n",
    "\n",
    "# Aplicar la operación de 'ffill' para cada columna que desees rellenar\n",
    "for column in data.columns:\n",
    "    data = data.withColumn(column, F.last(data[column], ignorenulls=True).over(window))"
   ]
  },
  {
   "cell_type": "markdown",
   "id": "fc0e91a5-b341-4221-9f51-99531db08491",
   "metadata": {},
   "source": [
    "### Añadir el Lag\n",
    "Para predecir el valor actual en base al valor del día anterior"
   ]
  },
  {
   "cell_type": "code",
   "execution_count": 12,
   "id": "17c7cd4b-9cbe-4b7e-a466-fa5b998208f9",
   "metadata": {},
   "outputs": [],
   "source": [
    "windowSpec = Window.partitionBy(\"symbol\").orderBy(\"date\")\n",
    "\n",
    "# Crear nuevas columnas para las características del día anterior\n",
    "for feature in [\"Open\", \"Close\", \"Low\", \"Volume\", \"High\"]:\n",
    "    data = data.withColumn(f\"{feature}_prev_day\", F.lag(data[feature]).over(windowSpec))\n",
    "\n",
    "# Filtrar cualquier fila que tenga valores nulos resultantes de la función lag()\n",
    "data = data.filter(\n",
    "    (col(\"Open_prev_day\").isNotNull()) &\n",
    "    (col(\"Close_prev_day\").isNotNull()) &\n",
    "    (col(\"Low_prev_day\").isNotNull()) &\n",
    "    (col(\"Volume_prev_day\").isNotNull()) &\n",
    "    (col(\"High_prev_day\").isNotNull())\n",
    ")"
   ]
  },
  {
   "cell_type": "markdown",
   "id": "8770281f-bd3f-4cf7-8926-2c6ed079c8f5",
   "metadata": {},
   "source": [
    "### Dividir en train y test"
   ]
  },
  {
   "cell_type": "code",
   "execution_count": 13,
   "id": "f1c843ac-a902-46bd-9b77-404e5b332fc1",
   "metadata": {},
   "outputs": [
    {
     "name": "stderr",
     "output_type": "stream",
     "text": [
      "                                                                                \r"
     ]
    },
    {
     "name": "stdout",
     "output_type": "stream",
     "text": [
      "+----------+------------------+------------------+------------------+------------------+---------+---------+-----------+------+----------+------------------+------------------+------------------+---------------+------------------+\n",
      "|      Date|              Open|              High|               Low|             Close|   Volume|Dividends|StockSplits|Symbol|       CIK|     Open_prev_day|    Close_prev_day|      Low_prev_day|Volume_prev_day|     High_prev_day|\n",
      "+----------+------------------+------------------+------------------+------------------+---------+---------+-----------+------+----------+------------------+------------------+------------------+---------------+------------------+\n",
      "|2024-04-16| 95.95999908447266| 96.12999725341797|             94.75| 95.05000305175781| 606700.0|      0.0|        0.0|   CPT|0000906345|  98.5199966430664| 96.62000274658203| 95.97000122070312|       540800.0|  98.7699966430664|\n",
      "|2024-04-16|33.400001525878906|33.415000915527344|              33.0|33.040000915527344|1844600.0|      0.0|        0.0|  INVH|0001687229| 34.15999984741211|33.560001373291016|33.334999084472656|      2587100.0| 34.17499923706055|\n",
      "|2024-04-16|  87.3499984741211|  87.7300033569336|  85.6500015258789| 86.29000091552734|2615100.0|      0.0|        0.0|  CSGP|0001057352| 91.58000183105469| 87.52999877929688| 86.76000213623047|      2585000.0| 91.69000244140625|\n",
      "|2024-04-16|             118.5|             118.5|116.16000366210938|116.98999786376953| 778100.0|      0.0|        0.0|   ARE|0001035443|123.51000213623047|119.18000030517578|118.41999816894531|       572800.0| 123.8499984741211|\n",
      "|2024-04-16|138.50999450683594|138.50999450683594| 135.5399932861328|136.42999267578125|2051500.0|      0.0|        0.0|   DLR|0001297996|143.39999389648438|138.55999755859375|137.33999633789062|      1659000.0| 143.4499969482422|\n",
      "|2024-04-16|              95.0| 95.06999969482422| 93.37000274658203| 93.95999908447266|4055200.0|      0.0|        0.0|   CCI|0001051470| 96.72000122070312|  95.6500015258789| 95.05000305175781|      2954900.0| 97.44000244140625|\n",
      "|2024-04-16| 18.18000030517578|18.270000457763672|17.799999237060547| 17.81999969482422|6298300.0|      0.0|        0.0|   DOC|0000765880| 18.65999984741211|18.290000915527344|18.100000381469727|      5117900.0|18.709999084472656|\n",
      "|2024-04-16| 86.52999877929688| 86.79000091552734| 84.70999908447266|              85.5|2645500.0|      0.0|        0.0|  CBRE|0001138118| 90.55000305175781| 86.98999786376953|             86.75|      1913200.0| 90.55000305175781|\n",
      "|2024-04-16| 745.5700073242188| 747.5999755859375|            733.25| 742.1400146484375| 579900.0|      0.0|        0.0|  EQIX|0001101239| 761.1500244140625| 744.1099853515625| 740.9500122070312|       574800.0| 768.8300170898438|\n",
      "|2024-04-16|234.25999450683594| 234.3800048828125|231.88999938964844| 232.6999969482422| 294100.0|      0.0|        0.0|   ESS|0000920522|240.82000732421875|235.58999633789062|234.25999450683594|       248400.0|241.27999877929688|\n",
      "+----------+------------------+------------------+------------------+------------------+---------+---------+-----------+------+----------+------------------+------------------+------------------+---------------+------------------+\n",
      "only showing top 10 rows\n",
      "\n"
     ]
    },
    {
     "name": "stderr",
     "output_type": "stream",
     "text": [
      "[Stage 18:>                                                         (0 + 1) / 1]\r"
     ]
    },
    {
     "name": "stdout",
     "output_type": "stream",
     "text": [
      "+----------+------------------+------------------+------------------+------------------+---------+---------+-----------+------+----------+------------------+------------------+------------------+---------------+------------------+\n",
      "|      Date|              Open|              High|               Low|             Close|   Volume|Dividends|StockSplits|Symbol|       CIK|     Open_prev_day|    Close_prev_day|      Low_prev_day|Volume_prev_day|     High_prev_day|\n",
      "+----------+------------------+------------------+------------------+------------------+---------+---------+-----------+------+----------+------------------+------------------+------------------+---------------+------------------+\n",
      "|2018-01-03| 75.30405983996548| 75.76513670509456|  74.9994161788188| 75.48519897460938| 414600.0|      0.0|        0.0|   CPT|0000906345| 75.72397592045682| 75.33699798583984|  74.9582553617917|       385800.0| 75.82277452047721|\n",
      "|2018-01-03|20.426168828162695|20.547494717251553| 20.23551362346002|20.348173141479492|2745100.0|      0.0|        0.0|  INVH|0001687229| 20.43483199341697|20.356836318969727|20.183513883596635|      2350400.0| 20.44349836312678|\n",
      "|2018-01-03| 29.70800018310547|30.788999557495117|29.590999603271484|             30.75|2802000.0|      0.0|        0.0|  CSGP|0001057352| 29.82900047302246|29.679000854492188|29.542999267578125|      2264000.0|29.861000061035156|\n",
      "|2018-01-03|122.96711083820674|124.23121528054504|122.80146708941959| 123.5163345336914|1770500.0|      0.0|        0.0|   AMT|0001053507|124.80659876477053|123.03684997558594|122.84505336076565|      1880600.0|124.85890451379768|\n",
      "|2018-01-03| 90.35312156651872|  91.8618002565996| 90.28127653407608| 90.75224304199219|1472800.0|      0.0|        0.0|   DLR|0001297996| 91.03161906714745| 89.93004608154297| 89.38724067774297|      1224400.0| 91.16731889556998|\n",
      "|2018-01-03| 85.48308628242334| 86.07262480850902| 84.95643330508985| 85.26299285888672|2078900.0|      0.0|        0.0|   CCI|0001051470| 86.88226144064703| 85.62458038330078| 85.26299745413225|      2036100.0|  87.2202637870366|\n",
      "|2018-01-03|19.077618713893976|19.180424387897883|18.938099028736758| 19.01887321472168|2804300.0|      0.0|        0.0|   DOC|0000765880|19.151048947450626|19.026214599609375|18.938097060311456|      3661700.0| 19.20979444051692|\n",
      "|2018-01-03|             43.75| 44.22999954223633| 43.52000045776367|44.189998626708984|2207400.0|      0.0|        0.0|  CBRE|0001138118| 43.68000030517578| 43.81999969482422|  43.2400016784668|      2389400.0| 43.83000183105469|\n",
      "|2018-01-03|399.92375115627107| 402.9689761411583| 397.7065841101384| 399.7812805175781| 464600.0|      0.0|        0.0|  EQIX|0001101239|403.83269208242035|  397.947021484375| 397.1011105454973|       614300.0| 406.5306670065562|\n",
      "|2018-01-03|198.06318242630138|199.21284552886905|197.22556357706603|199.17178344726562| 321400.0|      0.0|        0.0|   ESS|0000920522|198.69551651469226|197.15167236328125|196.52757128502878|       310900.0|199.29498284843402|\n",
      "+----------+------------------+------------------+------------------+------------------+---------+---------+-----------+------+----------+------------------+------------------+------------------+---------------+------------------+\n",
      "only showing top 10 rows\n",
      "\n"
     ]
    },
    {
     "name": "stderr",
     "output_type": "stream",
     "text": [
      "                                                                                \r"
     ]
    }
   ],
   "source": [
    "# Crear características de series temporales como el precio de cierre retrasado\n",
    "\n",
    "# Definir una especificación de ventana particionada por empresa y ordenada por fecha en orden descendente\n",
    "windowSpec = Window.partitionBy(\"Symbol\").orderBy(F.col(\"Date\").desc())\n",
    "\n",
    "# Agregar una columna de número de fila dentro de cada partición\n",
    "data = data.withColumn(\"row_number\", row_number().over(windowSpec))\n",
    "\n",
    "# Filtrar para obtener solo los últimos 7 registros para cada empresa\n",
    "test_df = data.filter(col(\"row_number\") <= 7).drop(\"row_number\").orderBy(F.col(\"Date\").asc())\n",
    "\n",
    "# Para el conjunto de entrenamiento, excluimos los registros seleccionados para el test\n",
    "train_df = data.filter(col(\"row_number\") > 7).drop(\"row_number\").orderBy(F.col(\"Date\").asc())\n",
    "\n",
    "# test_df.show(10)\n",
    "# train_df.show(10)"
   ]
  },
  {
   "cell_type": "markdown",
   "id": "4e0b8ea4-125b-4a96-b86e-a24b3ad10f75",
   "metadata": {},
   "source": [
    "### Columnas\n",
    "Nos quedamos solo con las columnas necesarias para predecir"
   ]
  },
  {
   "cell_type": "code",
   "execution_count": 14,
   "id": "748cbd76-44ea-46c8-9f2f-f44b09de52a2",
   "metadata": {},
   "outputs": [],
   "source": [
    "# Definir el VectorAssembler para transformar las características\n",
    "features = ['Open', 'Low', 'Close', 'Volume']  # Columnas que serán usadas como características\n",
    "# assembler = VectorAssembler(inputCols=feature_columns, outputCol=\"features\")\n",
    "assembler = VectorAssembler(inputCols=[f'{feature}_prev_day' for feature in features], outputCol=\"features\")"
   ]
  },
  {
   "cell_type": "markdown",
   "id": "ac63b1cc-4406-4159-8081-d6f87c9747f2",
   "metadata": {},
   "source": [
    "## Modelo Linear Regression"
   ]
  },
  {
   "cell_type": "markdown",
   "id": "33486dfe-3ce0-4ae8-a24d-9cf777acf01e",
   "metadata": {},
   "source": [
    "Obtenemos los datos de la empresa \"MAA\" para realizar la predicción"
   ]
  },
  {
   "cell_type": "code",
   "execution_count": 60,
   "id": "40afdada-d781-4c3f-a97a-31111c69c62b",
   "metadata": {},
   "outputs": [],
   "source": [
    "# Obtenemos los datos de train y test de la empresa \n",
    "train_data_lr = train_df.filter(data.Symbol == 'MAA')\n",
    "test_data_lr = test_df.filter(data.Symbol == 'MAA')\n",
    "\n",
    "# train_data_lr.show()\n",
    "# test_data_lr.show()"
   ]
  },
  {
   "cell_type": "markdown",
   "id": "ff02e6c4-9858-431a-aa51-94e07a620fc6",
   "metadata": {},
   "source": [
    "### Modelo"
   ]
  },
  {
   "cell_type": "code",
   "execution_count": 17,
   "id": "cba8be8d-7bc4-407c-993d-2a76b9e9a9d8",
   "metadata": {},
   "outputs": [],
   "source": [
    "# Modelo de regresión lineal\n",
    "lr = LinearRegression(featuresCol=\"features\", labelCol=\"Close\")"
   ]
  },
  {
   "cell_type": "markdown",
   "id": "6266ff4e-aa61-4524-b375-05c3e73ca201",
   "metadata": {},
   "source": [
    "Se crea un pipeline que primero crea el assembler para unificar las columnas usadas para predicción en la variable \"features\" y posteriormente emplea cross validation para encontrar los mejores parámetros para predecir el valor"
   ]
  },
  {
   "cell_type": "code",
   "execution_count": 18,
   "id": "a6eea74f-adcf-4057-a944-83cef3f8081e",
   "metadata": {},
   "outputs": [
    {
     "name": "stderr",
     "output_type": "stream",
     "text": [
      "                                                                                \r"
     ]
    }
   ],
   "source": [
    "pipeline = Pipeline(stages=[assembler, lr])\n",
    "\n",
    "# Configurar el CrossValidator con Grid de Parámetros\n",
    "paramGrid = ParamGridBuilder() \\\n",
    "    .addGrid(lr.regParam, [0.1, 0.01, 0.001, 0.0001]) \\\n",
    "    .addGrid(lr.elasticNetParam, [0.0, 0.25, 0.5, 0.75, 1.0]) \\\n",
    "    .build()\n",
    "\n",
    "evaluator = RegressionEvaluator(labelCol=\"Close\", predictionCol=\"prediction\", metricName=\"rmse\")\n",
    "\n",
    "crossval = CrossValidator(estimator=pipeline,\n",
    "                          estimatorParamMaps=paramGrid,\n",
    "                          evaluator=evaluator,\n",
    "                          numFolds=5)  # Usar 3 pliegues para la validación cruzada\n",
    "\n",
    "# Entrenar el modelo utilizando solo el conjunto de entrenamiento\n",
    "cvModel = crossval.fit(train_data_lr)\n",
    "\n",
    "# Evaluar el modelo en el conjunto de prueba\n",
    "test_predictions_lr = cvModel.transform(test_data_lr)"
   ]
  },
  {
   "cell_type": "markdown",
   "id": "76249446-c584-4744-ab71-e85db86910d0",
   "metadata": {},
   "source": [
    "### Parámetros"
   ]
  },
  {
   "cell_type": "code",
   "execution_count": 19,
   "id": "55de4438-5bb3-4fb2-bdd7-cbe0b90fe1c4",
   "metadata": {},
   "outputs": [
    {
     "name": "stdout",
     "output_type": "stream",
     "text": [
      "Best model parameters:\n",
      "aggregationDepth: 2\n",
      "elasticNetParam: 0.75\n",
      "epsilon: 1.35\n",
      "featuresCol: features\n",
      "fitIntercept: True\n",
      "labelCol: Close\n",
      "loss: squaredError\n",
      "maxBlockSizeInMB: 0.0\n",
      "maxIter: 100\n",
      "predictionCol: prediction\n",
      "regParam: 0.0001\n",
      "solver: auto\n",
      "standardization: True\n",
      "tol: 1e-06\n"
     ]
    }
   ],
   "source": [
    "bestLRModel = cvModel.bestModel.stages[-1]  # The last stage in the pipeline is the GLR model\n",
    "\n",
    "# Print the parameters of the best model\n",
    "print(\"Best model parameters:\")\n",
    "paramMap = bestLRModel.extractParamMap()\n",
    "for param, value in paramMap.items():\n",
    "    print(f\"{param.name}: {value}\")"
   ]
  },
  {
   "cell_type": "markdown",
   "id": "f0b36b7b-4d30-40a0-b00f-0c88b65c1557",
   "metadata": {},
   "source": [
    "### Métricas"
   ]
  },
  {
   "cell_type": "code",
   "execution_count": 20,
   "id": "0fc4491f-8453-48f2-a751-468a7e4629ff",
   "metadata": {},
   "outputs": [
    {
     "name": "stderr",
     "output_type": "stream",
     "text": [
      "                                                                                \r"
     ]
    },
    {
     "name": "stdout",
     "output_type": "stream",
     "text": [
      "RMSE:  1.3013136214605103\n",
      "MAE 1.0226897322200503\n",
      "r2:  0.35279270180496136\n"
     ]
    }
   ],
   "source": [
    "rmse = evaluator.evaluate(test_predictions_lr)\n",
    "r2 = evaluator.evaluate(test_predictions_lr, {evaluator.metricName: \"r2\"})\n",
    "mae = evaluator.evaluate(test_predictions_lr, {evaluator.metricName: \"mae\"})\n",
    "\n",
    "print(\"RMSE: \", rmse)\n",
    "print(\"MAE\", mae)\n",
    "print(\"r2: \", r2)\n",
    "\n",
    "# Guardar el mejor modelo\n",
    "cvModel.bestModel.write().overwrite().save(\"./model_lr\")"
   ]
  },
  {
   "cell_type": "markdown",
   "id": "c883edb0-3deb-4775-a87d-627d3f0c636f",
   "metadata": {},
   "source": [
    "Se almacenan los resultados en un único dataset para poder consultarlos en otro momento"
   ]
  },
  {
   "cell_type": "code",
   "execution_count": 41,
   "id": "5d542e4a-e480-48ae-b850-d06799d9a692",
   "metadata": {},
   "outputs": [
    {
     "name": "stdout",
     "output_type": "stream",
     "text": [
      "+----------+------------------+------------------+------------------+------------------+---------+---------+-----------+------+----------+------------------+------------------+------------------+---------------+------------------+------------------+\n",
      "|      Date|              Open|              High|               Low|             Close|   Volume|Dividends|StockSplits|Symbol|       CIK|     Open_prev_day|    Close_prev_day|      Low_prev_day|Volume_prev_day|     High_prev_day|        prediction|\n",
      "+----------+------------------+------------------+------------------+------------------+---------+---------+-----------+------+----------+------------------+------------------+------------------+---------------+------------------+------------------+\n",
      "|2024-04-24|126.37000274658203|128.84500122070312|125.98500061035156|128.39999389648438| 440861.0|      0.0|        0.0|   MAA|0000912595|127.44000244140625|127.48999786376953|127.16999816894531|       708000.0|            128.75| 127.8446796442902|\n",
      "|2024-04-23|127.44000244140625|            128.75|127.16999816894531|127.48999786376953| 708000.0|      0.0|        0.0|   MAA|0000912595|            126.25|127.47000122070312|125.55000305175781|       486300.0| 128.2100067138672|127.39798693795024|\n",
      "|2024-04-22|            126.25| 128.2100067138672|125.55000305175781|127.47000122070312| 486300.0|      0.0|        0.0|   MAA|0000912595|125.16999816894531|126.08000183105469|125.16999816894531|       564700.0|126.37000274658203|126.29864068748186|\n",
      "|2024-04-19|125.16999816894531|126.37000274658203|125.16999816894531|126.08000183105469| 564700.0|      0.0|        0.0|   MAA|0000912595|124.94000244140625|124.62000274658203|124.01000213623047|      1016600.0|125.69999694824219|124.92432168001307|\n",
      "|2024-04-18|124.94000244140625|125.69999694824219|124.01000213623047|124.62000274658203|1016600.0|      0.0|        0.0|   MAA|0000912595|123.83999633789062|124.80000305175781|123.83999633789062|      1375900.0|126.83000183105469|125.19187201324009|\n",
      "|2024-04-17|123.83999633789062|126.83000183105469|123.83999633789062|124.80000305175781|1375900.0|      0.0|        0.0|   MAA|0000912595|126.08999633789062|123.79000091552734| 123.7300033569336|       579200.0| 126.2300033569336|123.98792720618225|\n",
      "|2024-04-16|126.08999633789062| 126.2300033569336| 123.7300033569336|123.79000091552734| 579200.0|      0.0|        0.0|   MAA|0000912595| 129.0500030517578|126.62999725341797|125.93000030517578|       406700.0| 129.4499969482422|126.59051806655772|\n",
      "+----------+------------------+------------------+------------------+------------------+---------+---------+-----------+------+----------+------------------+------------------+------------------+---------------+------------------+------------------+\n",
      "\n"
     ]
    },
    {
     "name": "stderr",
     "output_type": "stream",
     "text": [
      "                                                                                \r"
     ]
    },
    {
     "name": "stdout",
     "output_type": "stream",
     "text": [
      "+----------+------------------+------------------+------------------+------------------+---------+---------+-----------+------+----------+------------------+------------------+------------------+---------------+------------------+------------------+\n",
      "|      Date|              Open|              High|               Low|             Close|   Volume|Dividends|StockSplits|Symbol|       CIK|     Open_prev_day|    Close_prev_day|      Low_prev_day|Volume_prev_day|     High_prev_day|        prediction|\n",
      "+----------+------------------+------------------+------------------+------------------+---------+---------+-----------+------+----------+------------------+------------------+------------------+---------------+------------------+------------------+\n",
      "|2024-04-24|126.37000274658203|128.84500122070312|125.98500061035156|128.39999389648438| 440861.0|      0.0|        0.0|   MAA|0000912595|127.44000244140625|127.48999786376953|127.16999816894531|       708000.0|            128.75| 127.8446796442902|\n",
      "|2024-04-23|127.44000244140625|            128.75|127.16999816894531|127.48999786376953| 708000.0|      0.0|        0.0|   MAA|0000912595|            126.25|127.47000122070312|125.55000305175781|       486300.0| 128.2100067138672|127.39798693795024|\n",
      "|2024-04-22|            126.25| 128.2100067138672|125.55000305175781|127.47000122070312| 486300.0|      0.0|        0.0|   MAA|0000912595|125.16999816894531|126.08000183105469|125.16999816894531|       564700.0|126.37000274658203|126.29864068748186|\n",
      "|2024-04-19|125.16999816894531|126.37000274658203|125.16999816894531|126.08000183105469| 564700.0|      0.0|        0.0|   MAA|0000912595|124.94000244140625|124.62000274658203|124.01000213623047|      1016600.0|125.69999694824219|124.92432168001307|\n",
      "|2024-04-18|124.94000244140625|125.69999694824219|124.01000213623047|124.62000274658203|1016600.0|      0.0|        0.0|   MAA|0000912595|123.83999633789062|124.80000305175781|123.83999633789062|      1375900.0|126.83000183105469|125.19187201324009|\n",
      "|2024-04-17|123.83999633789062|126.83000183105469|123.83999633789062|124.80000305175781|1375900.0|      0.0|        0.0|   MAA|0000912595|126.08999633789062|123.79000091552734| 123.7300033569336|       579200.0| 126.2300033569336|123.98792720618225|\n",
      "|2024-04-16|126.08999633789062| 126.2300033569336| 123.7300033569336|123.79000091552734| 579200.0|      0.0|        0.0|   MAA|0000912595| 129.0500030517578|126.62999725341797|125.93000030517578|       406700.0| 129.4499969482422|126.59051806655772|\n",
      "|2024-04-15| 129.0500030517578| 129.4499969482422|125.93000030517578|126.62999725341797| 406700.0|      0.0|        0.0|   MAA|0000912595| 129.7100067138672| 128.1300048828125| 127.5999984741211|       572100.0| 130.1999969482422|              null|\n",
      "|2024-04-12| 129.7100067138672| 130.1999969482422| 127.5999984741211| 128.1300048828125| 572100.0|     1.47|        0.0|   MAA|0000912595|132.46806516375503|130.52000427246094|129.50147681220244|       647800.0|132.46806516375503|              null|\n",
      "|2024-04-11|132.46806516375503|132.46806516375503|129.50147681220244|130.52000427246094| 647800.0|      0.0|        0.0|   MAA|0000912595|131.45943137855448| 131.4693145751953| 129.8673615660898|       801400.0| 132.3593002049149|              null|\n",
      "|2024-04-10|131.45943137855448| 132.3593002049149| 129.8673615660898| 131.4693145751953| 801400.0|      0.0|        0.0|   MAA|0000912595| 131.9241924551998|133.87225341796875|131.79563546015083|      1096700.0|134.87099943431687|              null|\n",
      "|2024-04-09| 131.9241924551998|134.87099943431687|131.79563546015083|133.87225341796875|1096700.0|      0.0|        0.0|   MAA|0000912595|127.42485619806381| 131.2418670654297|126.85131398506758|      1128600.0|131.95384946164236|              null|\n",
      "|2024-04-08|127.42485619806381|131.95384946164236|126.85131398506758| 131.2418670654297|1128600.0|      0.0|        0.0|   MAA|0000912595|  124.923042445562|125.68446350097656|123.99350897619844|       668600.0|126.21845033160511|              null|\n",
      "|2024-04-05|  124.923042445562|126.21845033160511|123.99350897619844|125.68446350097656| 668600.0|      0.0|        0.0|   MAA|0000912595|128.39394448531954|125.41747283935547|125.14059245781691|       637600.0| 128.7697171840572|              null|\n",
      "|2024-04-04|128.39394448531954| 128.7697171840572|125.14059245781691|125.41747283935547| 637600.0|      0.0|        0.0|   MAA|0000912595|125.44713619794409|127.01942443847656|124.91314937726575|       758100.0|127.23697546294822|              null|\n",
      "|2024-04-03|125.44713619794409|127.23697546294822|124.91314937726575|127.01942443847656| 758100.0|      0.0|        0.0|   MAA|0000912595|126.15912034948644|126.03056335449219|125.23947762537755|       598700.0| 126.6436685631309|              null|\n",
      "|2024-04-02|126.15912034948644| 126.6436685631309|125.23947762537755|126.03056335449219| 598700.0|      0.0|        0.0|   MAA|0000912595|129.97612922127678|127.26663970947266|127.26663970947266|       577500.0|130.16401556803478|              null|\n",
      "|2024-04-01|129.97612922127678|130.16401556803478|127.26663970947266|127.26663970947266| 577500.0|      0.0|        0.0|   MAA|0000912595|130.03546740680721| 130.1145782470703|129.81791636829618|       741900.0|130.86610859629477|              null|\n",
      "|2024-03-28|130.03546740680721|130.86610859629477|129.81791636829618| 130.1145782470703| 741900.0|      0.0|        0.0|   MAA|0000912595|128.71039010847656|   129.34326171875|128.71039010847656|       693800.0|130.58922345773695|              null|\n",
      "|2024-03-27|128.71039010847656|130.58922345773695|128.71039010847656|   129.34326171875| 693800.0|      0.0|        0.0|   MAA|0000912595|128.69060284761147|127.39519500732422|127.29630269281503|       549800.0|128.85870771119812|              null|\n",
      "+----------+------------------+------------------+------------------+------------------+---------+---------+-----------+------+----------+------------------+------------------+------------------+---------------+------------------+------------------+\n",
      "only showing top 20 rows\n",
      "\n"
     ]
    }
   ],
   "source": [
    "# Primero, me aseguro de que tanto los datos de prueba como las predicciones tienen una columna 'Date' para unirlos\n",
    "test_data_lr = test_data_lr.withColumn('Date', F.to_date(F.col('Date')))\n",
    "test_predictions_lr = test_predictions_lr.withColumn('Date', F.to_date(F.col('Date')))\n",
    "test_predictions_lr = test_predictions_lr.select('Date', 'prediction')\n",
    "# Unir las predicciones del modelo con el DataFrame de prueba basado en la fecha\n",
    "# Suponiend.selecto que test_predictions_lr ya tiene una columna 'Date' que se puede utilizar para la unión\n",
    "test_pd_lr = test_data_lr.join(test_predictions_lr, ['Date'], 'left_outer')\n",
    "\n",
    "test_pd_lr.show()\n",
    "# Para el conjunto de entrenamiento, puedes crear una columna 'prediction' que contenga nulos\n",
    "# ya que no hay predicciones para los datos de entrenamiento\n",
    "train_pd_lr = train_data_lr.withColumn('prediction', F.lit(None))\n",
    "\n",
    "# Unir los conjuntos de datos de entrenamiento y prueba\n",
    "concatenated_data = train_pd_lr.union(test_pd_lr)\n",
    "\n",
    "# Ordenar por fecha\n",
    "concatenated_data = concatenated_data.orderBy(F.col('Date').desc())\n",
    "\n",
    "# Mostrar los datos\n",
    "# concatenated_data.show()\n"
   ]
  },
  {
   "cell_type": "markdown",
   "id": "ec5c90f2-3fe3-43e7-ac63-5e4aaf5e413b",
   "metadata": {},
   "source": [
    "### Gráfica de los resultados"
   ]
  },
  {
   "cell_type": "code",
   "execution_count": 56,
   "id": "af4aa0f1-697c-4a6f-a04e-3ef2f57d350c",
   "metadata": {},
   "outputs": [
    {
     "name": "stderr",
     "output_type": "stream",
     "text": [
      "                                                                                \r"
     ]
    },
    {
     "data": {
      "image/png": "[encoded data removed]",
      "text/plain": [
       "<Figure size 1000x600 with 1 Axes>"
      ]
     },
     "metadata": {},
     "output_type": "display_data"
    }
   ],
   "source": [
    "# Convertir la columna de fechas a timestamp sin zona horaria\n",
    "train_pd_lr = train_pd_lr.withColumn('Date', F.to_timestamp('Date', 'yyyy-MM-dd'))\n",
    "test_pd_lr = test_pd_lr.withColumn('Date', F.to_timestamp('Date', 'yyyy-MM-dd'))\n",
    "\n",
    "# Recolectar los datos para la visualización\n",
    "train_dates = [row['Date'] for row in train_pd_lr.collect()]\n",
    "train_closes = [row['Close'] for row in train_pd_lr.collect()]\n",
    "test_dates = [row['Date'] for row in test_pd_lr.collect()]\n",
    "test_predictions = [row['prediction'] for row in test_pd_lr.collect()]\n",
    "\n",
    "# Crear el gráfico\n",
    "plt.figure(figsize=(10, 6))\n",
    "\n",
    "# Configurar el formato del eje x para fechas\n",
    "plt.gca().xaxis.set_major_formatter(mdates.DateFormatter('%Y-%m-%d'))\n",
    "plt.gca().xaxis.set_major_locator(mdates.AutoDateLocator())\n",
    "\n",
    "# Graficar los valores de 'Close' del conjunto de entrenamiento\n",
    "plt.plot(train_dates, train_closes, label='Close', color='blue')\n",
    "\n",
    "# Graficar las predicciones del conjunto de prueba\n",
    "plt.plot(test_dates, test_predictions, label='Predicciones', color='red')\n",
    "\n",
    "# Configurar el título y etiquetas de los ejes\n",
    "plt.title('Valores de Cierre vs Predicciones')\n",
    "plt.xlabel('Fecha')\n",
    "plt.ylabel('Valor de Cierre')\n",
    "\n",
    "# Rotar las etiquetas del eje x para mejor visualización\n",
    "plt.xticks(rotation=45)\n",
    "\n",
    "# Mostrar la leyenda\n",
    "plt.legend()\n",
    "\n",
    "# Ajustar el layout y mostrar el gráfico\n",
    "plt.tight_layout()\n",
    "plt.show()"
   ]
  },
  {
   "cell_type": "code",
   "execution_count": 59,
   "id": "e9e8eba0-4182-4709-92af-a7d0b53f1a95",
   "metadata": {},
   "outputs": [
    {
     "data": {
      "image/png": "[encoded data removed]",
      "text/plain": [
       "<Figure size 1000x600 with 1 Axes>"
      ]
     },
     "metadata": {},
     "output_type": "display_data"
    }
   ],
   "source": [
    "# Asegurarnos de que las fechas están en formato correcto (suponiendo que el formato es 'yyyy-MM-dd')\n",
    "test_pd_lr = test_pd_lr.withColumn('Date', F.to_timestamp('Date', 'yyyy-MM-dd'))\n",
    "\n",
    "# Ordenamos los datos por fecha\n",
    "test_pd_lr = test_pd_lr.orderBy('Date')\n",
    "\n",
    "# Recolectamos los datos para la visualización\n",
    "test_dates = [row['Date'] for row in test_pd_lr.collect()]\n",
    "test_highs = [row['Close'] for row in test_pd_lr.collect()]\n",
    "test_predictions = [row['prediction'] for row in test_pd_lr.collect()]\n",
    "\n",
    "# Definir el tamaño de la figura\n",
    "plt.figure(figsize=(10, 6))\n",
    "\n",
    "# Configurar el formato del eje x para fechas\n",
    "plt.gca().xaxis.set_major_formatter(mdates.DateFormatter('%Y-%m-%d'))\n",
    "plt.gca().xaxis.set_major_locator(mdates.AutoDateLocator())\n",
    "\n",
    "# Trama de los valores de cierre reales en el conjunto de prueba\n",
    "plt.plot(test_dates, test_highs, label='Close', color='blue')\n",
    "\n",
    "# Trama de las predicciones del modelo en el conjunto de prueba\n",
    "plt.plot(test_dates, test_predictions, label='Predictions', color='red')\n",
    "\n",
    "# Etiquetas y leyenda\n",
    "plt.xlabel('Fecha')\n",
    "plt.ylabel('Valor Close')\n",
    "plt.title('Valores Close y Predicciones')\n",
    "\n",
    "# Rotar las etiquetas del eje x para mejor visualización\n",
    "plt.xticks(rotation=45)\n",
    "\n",
    "plt.legend()\n",
    "\n",
    "# Ajustar el layout y mostrar la gráfica\n",
    "plt.tight_layout()\n",
    "plt.show()"
   ]
  }
 ],
 "metadata": {
  "kernelspec": {
   "display_name": "Anaconda",
   "language": "python",
   "name": "anaconda"
  },
  "language_info": {
   "codemirror_mode": {
    "name": "ipython",
    "version": 3
   },
   "file_extension": ".py",
   "mimetype": "text/x-python",
   "name": "python",
   "nbconvert_exporter": "python",
   "pygments_lexer": "ipython3",
   "version": "3.11.5"
  }
 },
 "nbformat": 4,
 "nbformat_minor": 5
}
